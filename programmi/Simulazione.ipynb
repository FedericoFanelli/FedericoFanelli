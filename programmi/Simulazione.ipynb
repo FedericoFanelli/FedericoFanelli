{
 "cells": [
  {
   "cell_type": "code",
   "execution_count": 1,
   "id": "ec39a3a8",
   "metadata": {},
   "outputs": [],
   "source": [
    "# plots will be shown inline \n",
    "%matplotlib inline \n",
    "import matplotlib.pyplot as plt\n",
    "\n",
    "import numpy\n",
    "from numpy import sqrt,floor\n",
    "import numpy.random as rnd\n",
    "\n",
    "import numpy as np\n",
    "import scipy as sp\n",
    "from scipy import stats\n",
    "\n",
    "from scipy.optimize import curve_fit\n",
    "\n",
    "import pandas as pd\n",
    "import random\n",
    "\n",
    "import math"
   ]
  },
  {
   "cell_type": "markdown",
   "id": "577c4632",
   "metadata": {},
   "source": [
    "# Campo medio 1 specie"
   ]
  },
  {
   "cell_type": "markdown",
   "id": "d7586596",
   "metadata": {},
   "source": [
    "## Definizione funzioni e costanti"
   ]
  },
  {
   "cell_type": "markdown",
   "id": "14fe2f05",
   "metadata": {},
   "source": [
    "### Grandezze iniziali"
   ]
  },
  {
   "cell_type": "code",
   "execution_count": null,
   "id": "005a00ef",
   "metadata": {},
   "outputs": [],
   "source": [
    "mu=0.5 #prob di scegliere 2 individui\n",
    "c=0.5 #rate competizione\n",
    "b=0.5 #rate nascita\n",
    "d=0.5 #rate morte\n",
    "\n",
    "\n",
    "N=400 #numero totale posti \n",
    "n_0=N/2 #numeroiniziale pop A\n",
    "\n",
    "fi0=n_0/N"
   ]
  },
  {
   "cell_type": "markdown",
   "id": "dffe7764",
   "metadata": {},
   "source": [
    "### Probabilità di pescare"
   ]
  },
  {
   "cell_type": "code",
   "execution_count": null,
   "id": "d0f97374",
   "metadata": {},
   "outputs": [],
   "source": [
    "def p_AA(n):              #prob pescare AA\n",
    "    return (mu*n*(n-1)/(N*(N-1)))\n",
    "\n",
    "\n",
    "def p_AE(n):              #prob pescare AE\n",
    "    return (2*mu*n*(N-n)/(N*(N-1)))\n",
    "\n",
    "\n",
    "def p_A(n):              #prob pescare A\n",
    "    return ((1-mu)*n/N)\n",
    "\n"
   ]
  },
  {
   "cell_type": "markdown",
   "id": "cfa0576a",
   "metadata": {},
   "source": [
    "### Probabilità di transire"
   ]
  },
  {
   "cell_type": "code",
   "execution_count": null,
   "id": "2d0a0d99",
   "metadata": {},
   "outputs": [],
   "source": [
    "def Tm(n): #n-> n-1\n",
    "    \n",
    "    if(n<=0 or n>=N+1 ):\n",
    "        return (0)\n",
    "    else:\n",
    "        return (c*p_AA(n)+d*p_A(n))\n",
    "\n",
    "\n",
    "     \n",
    "def Tp(n): #n-> n+1\n",
    "    if(n<=-1 or n>=N ):\n",
    "        return (0)\n",
    "    else:\n",
    "        return (b*p_AE(n))"
   ]
  },
  {
   "cell_type": "markdown",
   "id": "fcb52759",
   "metadata": {},
   "source": [
    "### Variabili tilde"
   ]
  },
  {
   "cell_type": "code",
   "execution_count": null,
   "id": "2a17de94",
   "metadata": {},
   "outputs": [],
   "source": [
    "ct=mu*c/(N-1)\n",
    "bt=mu*d/(N-1)\n",
    "dt=(1-mu)*c/N"
   ]
  },
  {
   "cell_type": "markdown",
   "id": "749364cc",
   "metadata": {},
   "source": [
    "### Variabili per mappa logistica"
   ]
  },
  {
   "cell_type": "code",
   "execution_count": null,
   "id": "26c7bc1a",
   "metadata": {},
   "outputs": [],
   "source": [
    "\n",
    "r=2*bt-dt\n",
    "a=2*(bt+ct)/N\n"
   ]
  },
  {
   "cell_type": "markdown",
   "id": "e08ff34e",
   "metadata": {},
   "source": [
    "### Eq per fi"
   ]
  },
  {
   "cell_type": "code",
   "execution_count": null,
   "id": "04f1b1cc",
   "metadata": {},
   "outputs": [],
   "source": [
    "#fi=<n>/N\n",
    "def dt_fi(fi):\n",
    "    return(fi*(r-N*a*fi))"
   ]
  },
  {
   "cell_type": "markdown",
   "id": "f557c11e",
   "metadata": {},
   "source": [
    "### Soluzione  Mappa  logistica"
   ]
  },
  {
   "cell_type": "code",
   "execution_count": null,
   "id": "bfedb78c",
   "metadata": {},
   "outputs": [],
   "source": [
    "#NA=fi*N\n",
    "\n",
    "def logistica(t):\n",
    "    ct=mu*c/(N-1)\n",
    "    bt=mu*d/(N-1)\n",
    "    dt=(1-mu)*c/N\n",
    "    r=2*bt-dt\n",
    "    a=2*(bt+ct)/N\n",
    "    C=n_0/(r-a*n_0)\n",
    "    return(r*C*np.exp(r*t)/(1+a*C*np.exp(r*t)))\n"
   ]
  },
  {
   "cell_type": "markdown",
   "id": "ff9470bf",
   "metadata": {},
   "source": [
    "### Runge Kutta 4"
   ]
  },
  {
   "cell_type": "code",
   "execution_count": null,
   "id": "7f073bbe",
   "metadata": {},
   "outputs": [],
   "source": [
    "def rungekutta4(f, y0, t):  \n",
    "    n = len(t) \n",
    "    y = np.zeros(n)\n",
    "    y[0] = y0\n",
    "    for i in range(n - 1):\n",
    "        h = t[i+1] - t[i]\n",
    "        k1 = f(y[i])\n",
    "        k2 = f(y[i] + k1 * h / 2.)\n",
    "        k3 = f(y[i] + k2 * h / 2.)\n",
    "        k4 = f(y[i] + k3 * h)\n",
    "        y[i+1] = y[i] + (h / 6.) * (k1 + 2*k2 + 2*k3 + k4)\n",
    "    return y"
   ]
  },
  {
   "cell_type": "code",
   "execution_count": null,
   "id": "01e119ca",
   "metadata": {},
   "outputs": [],
   "source": [
    "def scegli_1o2():\n",
    "    rand= rnd.random()\n",
    "    if(rand<mu):\n",
    "        return(2)\n",
    "    else:\n",
    "        return(1)"
   ]
  },
  {
   "cell_type": "code",
   "execution_count": null,
   "id": "30407448",
   "metadata": {},
   "outputs": [],
   "source": [
    "#def nascita_morte(n,t_max):\n",
    " #   t=0\n",
    " #   for t in range(0, t_max, 1):\n",
    " #       scelta=scegli_1o2()     #vedo se fare interaz a 1 o 2\n",
    "#\n",
    " #       if(scelta==2):            \n",
    " #           rand= rnd.random()              # se a 2 estraggo rand\n",
    " #           if(rand<=p_AA(n[t])): \n",
    " #               n[t+1]=n[t]-1              # se AA perdo 1 individuo\n",
    " #           elif(rand>p_AA(n[t]) and rand<=p_AE(n[t])+p_AA(n[t])):\n",
    " #               n[t+1]=n[t]+1              # se AE guadagno 1 individuo\n",
    " #           else:\n",
    " #               n[t+1]=n[t]              # se EE non faccio nulla\n",
    "#\n",
    " #       elif(scelta==1):  \n",
    "#\n",
    " #           rand= rnd.random()              # se a 1 estraggo rand\n",
    " #           if(rand<p_A(n[t])):\n",
    " #               n[t+1]=n[t]-1              # se A perdo 1 individuo\n",
    " #           else:\n",
    " #               n[t+1]=n[t]              # se E non faccio nulla\n",
    "#\n",
    "    \n",
    "#con rate??\n",
    "\n",
    "#def nascita_morte(n,t_max):\n",
    "#   t=0\n",
    "#   for t in range(0, t_max, 1):\n",
    "#       scelta=scegli_1o2()     #vedo se fare interaz a 1 o 2\n",
    "\n",
    "#       if(scelta==2):            \n",
    "#           rand= rnd.random()              # se a 2 estraggo rand\n",
    "#           if(rand<=p_AA(n[t])): \n",
    "#               rand1=rnd.random()\n",
    "#               if(rand1<=c):\n",
    "#                   n[t+1]=n[t]-1              # se AA perdo 1 individuo\n",
    "#           elif(rand>p_AA(n[t]) and rand<=p_AE(n[t])+p_AA(n[t])):\n",
    "#               rand1=rnd.random()\n",
    "#               if(rand1<=b):\n",
    "#                   n[t+1]=n[t]+1              # se AE guadagno 1 individuo\n",
    "#           else:\n",
    "#               n[t+1]=n[t]              # se EE non faccio nulla\n",
    "\n",
    "#       elif(scelta==1):  \n",
    "\n",
    "#           rand= rnd.random()              # se a 1 estraggo rand\n",
    "#           if(rand<p_A(n[t])):\n",
    "#               rand1=rnd.random()\n",
    "#               if(rand1<=d):\n",
    "#                   n[t+1]=n[t]-1              # se A perdo 1 individuo\n",
    "#           else:\n",
    "#               n[t+1]=n[t]              # se E non faccio nulla"
   ]
  },
  {
   "cell_type": "code",
   "execution_count": null,
   "id": "42ac5290",
   "metadata": {},
   "outputs": [],
   "source": [
    "def nascita_morte(n,t_max):\n",
    "    t=0\n",
    "    for t in range(0, t_max, 1):\n",
    "        rand=rnd.random()\n",
    "        #print(\"rand=\",rand,\"   Tm=\",Tm(n[t]),\"   tm+tp=\",Tm(n[t])+Tp(n[t]),'     n=',n[t])\n",
    "        \n",
    "        if(rand<Tm(n[t])):\n",
    "            n[t+1]=n[t]-1\n",
    "            #print(t,'   Scelto 1')\n",
    "            \n",
    "        elif(rand>=Tm(n[t]) and rand<Tm(n[t])+Tp(n[t])):\n",
    "            n[t+1]=n[t]+1\n",
    "            #print(t,'   Scelto 2')\n",
    "            \n",
    "        else:\n",
    "            n[t+1]=n[t]\n",
    "            #print(t,'   Scelto 3')\n",
    "            \n",
    "                \n",
    "           "
   ]
  },
  {
   "cell_type": "code",
   "execution_count": null,
   "id": "dd8aa773",
   "metadata": {},
   "outputs": [],
   "source": [
    "t_max=200\n",
    "n=np.zeros(t_max)\n",
    "n[0]=n_0\n",
    "nascita_morte(n,t_max-1)"
   ]
  },
  {
   "cell_type": "code",
   "execution_count": null,
   "id": "3d6aa96e",
   "metadata": {},
   "outputs": [],
   "source": [
    "def matrix(x,y):\n",
    "    matrix = []\n",
    "    \n",
    "    for i in range(x):\n",
    "        n = []\n",
    "\n",
    "        for j in range(y):\n",
    "            number = rnd.random()  \n",
    "            n.insert(i,number)\n",
    "\n",
    "        matrix.append(n)\n",
    "\n",
    "    return matrix\n",
    "    \n",
    "\n"
   ]
  },
  {
   "cell_type": "markdown",
   "id": "3704fece",
   "metadata": {},
   "source": [
    "## Inizio simulazione per MF 1 specie"
   ]
  },
  {
   "cell_type": "code",
   "execution_count": null,
   "id": "bfd0cc66",
   "metadata": {},
   "outputs": [],
   "source": [
    "#simulazione N=400, 1000 samples\n",
    "t_max=2000\n",
    "n=np.zeros(t_max)\n",
    "\n",
    "\n",
    "n[0]=n_0\n",
    "ntot=np.zeros(t_max)\n",
    "ntot2=np.zeros(t_max)\n",
    "samples=1000\n",
    "\n",
    "for i in range (0,samples):\n",
    "    \n",
    "    nascita_morte(n,t_max-1)\n",
    "    ntot=ntot+n\n",
    "    ntot2=ntot2+n**2\n",
    "    #if (i==0):\n",
    "        #print(n)\n",
    "    \n",
    "nMedio=ntot/samples\n",
    "n2Medio=ntot2/samples\n",
    "var=n2Medio-nMedio**2\n",
    "\n",
    "#Soluzione EDO\n",
    "t=np.linspace(0,t_max-1,t_max)\n",
    "\n",
    "Na_log=logistica(t)\n",
    "\n",
    "\n",
    "#grafico\n",
    "plt.plot(t,nMedio,color=\"red\",label=\"Estrazione Casuale\")\n",
    "plt.plot(t,Na_log,color=\"green\",label=\"Mappa logistica\")\n",
    "plt.xlabel(\"t\")\n",
    "plt.ylabel(r\"$N_A$\")\n",
    "plt.title(\"Mappa logistica vs estrazione a caso\")\n",
    "plt.grid()\n",
    "plt.legend()"
   ]
  },
  {
   "cell_type": "code",
   "execution_count": null,
   "id": "64d64d90",
   "metadata": {},
   "outputs": [],
   "source": [
    "rho=r\n",
    "sigma=2*bt-dt\n",
    "A=sigma-rho/fi0\n",
    "#var_teo=1/(sigma-A*np.exp(-rho*t))**4*(2*sigma**2*bt*(ct+dt)*(1-np.exp(-2*rho*t))-sigma*A*(4*bt**2+10*bt*(ct+dt)+ct*dt)*np.exp(-rho*t)*(1-np.exp(-rho*t))+2*A**2*rho*(4*bt**2+4*bt*(ct*dt)+ct*dt)*t*np.exp(-2*rho*t)-A**3*(2*bt+dt)*np.exp(-2*rho*t)*(1-np.exp(-rho*t)))\n",
    "#esp2*N**2-Na_log**2\n",
    "#plt.plot(t,var_teo,color=\"blue\",label=\"Varianza teorica\")\n",
    "plt.plot(t,var,color=\"red\",label=\"Varianza sperimentale\")\n",
    "#plt.plot(t,Na_log,color=\"green\",label=\"Mappa logistica\")\n",
    "plt.xlabel(\"t\")\n",
    "plt.ylabel(r\"$V_A$\")\n",
    "plt.title(\"Mappa logistica vs estrazione a caso\")\n",
    "plt.grid()\n",
    "plt.legend()"
   ]
  },
  {
   "cell_type": "code",
   "execution_count": null,
   "id": "883ad90e",
   "metadata": {},
   "outputs": [],
   "source": [
    "N=10\n",
    "n_0=5\n",
    "samples=5000\n",
    "t_max=2000\n",
    "n=np.zeros(t_max)\n",
    "fi0=0.5\n",
    "\n",
    "\n",
    "n[0]=n_0\n",
    "ntot=np.zeros(t_max)\n",
    "ntot2=np.zeros(t_max)\n",
    "\n",
    "for i in range (0,samples):\n",
    "    \n",
    "    nascita_morte(n,t_max-1)\n",
    "    ntot=ntot+n\n",
    "    \n",
    "    #if (i==0):\n",
    "        #print(n)\n",
    "    \n",
    "nMedio=ntot/samples\n",
    "\n",
    "#Soluzione EDO\n",
    "Na_log=logistica(t)\n",
    "\n",
    "\n",
    "#grafico\n",
    "plt.plot(t,nMedio,color=\"red\",label=\"Estrazione Casuale\")\n",
    "plt.plot(t,Na_log,color=\"green\",label=\"Mappa logistica\")\n",
    "plt.xlabel(\"t\")\n",
    "plt.ylabel(r\"$N_A$\")\n",
    "plt.title(\"Mappa logistica vs estrazione a caso\")\n",
    "plt.grid()\n",
    "plt.legend()"
   ]
  },
  {
   "cell_type": "code",
   "execution_count": null,
   "id": "f4a2bad1",
   "metadata": {},
   "outputs": [],
   "source": [
    "N=1000\n",
    "n_0=N/2\n",
    "samples=500\n",
    "t_max=20000\n",
    "n=np.zeros(t_max)\n",
    "\n",
    "\n",
    "fi0=0.5\n",
    "t=np.linspace(0,t_max-1,t_max)\n",
    "\n",
    "\n",
    "n[0]=n_0\n",
    "ntot=np.zeros(t_max)\n",
    "ntot2=np.zeros(t_max)\n",
    "\n",
    "for i in range (0,samples):\n",
    "    \n",
    "    nascita_morte(n,t_max-1)\n",
    "    ntot=ntot+n\n",
    "    #if (i==0):\n",
    "        #print(n)\n",
    "    \n",
    "nMedio=ntot/samples\n",
    "\n",
    "#Soluzione EDO\n",
    "Na_log=logistica(t)\n",
    "\n",
    "\n",
    "\n",
    "#grafico\n",
    "plt.plot(t,nMedio,color=\"red\",label=\"Estrazione Casuale\")\n",
    "plt.plot(t,Na_log,color=\"green\",label=\"Mappa logistica\")\n",
    "plt.xlabel(\"t\")\n",
    "plt.ylabel(r\"$N_A$\")\n",
    "plt.title(\"Mappa logistica vs estrazione a caso\")\n",
    "plt.grid()\n",
    "plt.legend()"
   ]
  },
  {
   "cell_type": "markdown",
   "id": "129fb8ee",
   "metadata": {},
   "source": [
    "### Dipendenza da N_0"
   ]
  },
  {
   "cell_type": "code",
   "execution_count": null,
   "id": "77d5c0e6",
   "metadata": {},
   "outputs": [],
   "source": [
    "t_max=2000\n",
    "t=np.linspace(0,t_max-1,t_max)\n",
    "matrice=matrix(11,t_max)\n",
    "for k in range (0,11,1):\n",
    "    \n",
    "    n=np.zeros(t_max)\n",
    "    n[0]=k*N/10\n",
    "    print(n[0])\n",
    "    \n",
    "    \n",
    "    ntot=np.zeros(t_max)\n",
    "    samples=10\n",
    "    \n",
    "\n",
    "    for i in range (0,samples):\n",
    "        \n",
    "\n",
    "        nascita_morte(n,t_max-1)\n",
    "        ntot=ntot+n\n",
    "        for j in range (0,t_max,1):\n",
    "            matrice[k][j]=ntot[j]/samples\n",
    "            \n",
    "plt.plot(t,matrice[0],label=\"$n_0=0$\")\n",
    "plt.plot(t,matrice[1] ,label=\"$n_0=10$\")\n",
    "plt.plot(t,matrice[2],label=\"$n_0=20$\")\n",
    "plt.plot(t,matrice[3],label=\"$n_0=30$\")\n",
    "plt.plot(t,matrice[4],label=\"$n_0=40$\")\n",
    "plt.plot(t,matrice[5],label=\"$n_0=50$\")\n",
    "plt.plot(t,matrice[6],label=\"$n_0=60$\")\n",
    "plt.plot(t,matrice[7],label=\"$n_0=70$\")\n",
    "plt.plot(t,matrice[8],label=\"$n_0=80$\")\n",
    "plt.plot(t,matrice[9],label=\"$n_0=90$\")\n",
    "plt.plot(t,matrice[10],label=\"$n_0=100$\")\n",
    "plt.grid()\n",
    "plt.legend(bbox_to_anchor=(1.05, 1.0), loc='upper left')\n",
    "plt.xlabel(\"t\")\n",
    "plt.ylabel(r\"$N_A$\")\n",
    "plt.title(r\"Dipendenza da $n_0$\")\n",
    "\n",
    "#Calcolo valore fisso\n",
    "N_fisso=N*(2*bt-ct)/(2*bt+ct)\n",
    "print(N_fisso) # :-)"
   ]
  },
  {
   "cell_type": "markdown",
   "id": "930d05fd",
   "metadata": {},
   "source": [
    "### Dipendenza da µ"
   ]
  },
  {
   "cell_type": "code",
   "execution_count": null,
   "id": "32154701",
   "metadata": {},
   "outputs": [],
   "source": [
    "\n",
    "t=np.linspace(0,t_max-1,t_max)\n",
    "matrice=matrix(11,t_max)\n",
    "for k in range (0,11,1):\n",
    "    \n",
    "    n=np.zeros(t_max)\n",
    "    mu=0.1*k\n",
    "\n",
    "    n[0]=n_0\n",
    "    \n",
    "    \n",
    "    \n",
    "    ntot=np.zeros(t_max)\n",
    "    samples=10\n",
    "    \n",
    "\n",
    "    for i in range (0,samples):\n",
    "        \n",
    "\n",
    "        nascita_morte(n,t_max-1)\n",
    "        ntot=ntot+n\n",
    "        for j in range (0,t_max,1):\n",
    "            matrice[k][j]=ntot[j]/samples\n",
    "            \n",
    "plt.plot(t,matrice[0],label=\"$\\mu=0$\")\n",
    "plt.plot(t,matrice[1] ,label=\"$\\mu=0.1$\")\n",
    "plt.plot(t,matrice[2],label=\"$\\mu=0.2$\")\n",
    "plt.plot(t,matrice[3],label=\"$\\mu=0.3$\")\n",
    "plt.plot(t,matrice[4],label=\"$\\mu=0.4$\")\n",
    "plt.plot(t,matrice[5],label=\"$\\mu=0.5$\")\n",
    "plt.plot(t,matrice[6],label=\"$\\mu=0.6$\")\n",
    "plt.plot(t,matrice[7],label=\"$\\mu=0.7$\")\n",
    "plt.plot(t,matrice[8],label=\"$\\mu=0.8$\")\n",
    "plt.plot(t,matrice[9],label=\"$\\mu=0.9$\")\n",
    "plt.plot(t,matrice[10],label=\"$\\mu=1$\")\n",
    "plt.grid()\n",
    "plt.legend(bbox_to_anchor=(1.05, 1.0), loc='upper left')\n",
    "plt.xlabel(\"t\")\n",
    "plt.ylabel(r\"$N_A$\")\n",
    "plt.title(r\"Dipendenza da $\\mu$\")"
   ]
  },
  {
   "cell_type": "code",
   "execution_count": null,
   "id": "11fe4aaa",
   "metadata": {},
   "outputs": [],
   "source": [
    "mu=0.5 #torno a nomrale"
   ]
  },
  {
   "cell_type": "markdown",
   "id": "c1a113c5",
   "metadata": {},
   "source": [
    "### Dipendenza da b"
   ]
  },
  {
   "cell_type": "code",
   "execution_count": null,
   "id": "013f9d27",
   "metadata": {},
   "outputs": [],
   "source": [
    "\n",
    "t=np.linspace(0,t_max-1,t_max)\n",
    "matrice=matrix(11,t_max)\n",
    "for k in range (0,11,1):\n",
    "    \n",
    "    n=np.zeros(t_max)\n",
    "    b=0.1*k\n",
    "    \n",
    "\n",
    "\n",
    "    n[0]=n_0\n",
    "    \n",
    "    \n",
    "    \n",
    "    ntot=np.zeros(t_max)\n",
    "    samples=10\n",
    "    \n",
    "\n",
    "    for i in range (0,samples):\n",
    "        \n",
    "\n",
    "        nascita_morte(n,t_max-1)\n",
    "        ntot=ntot+n\n",
    "        for j in range (0,t_max,1):\n",
    "            matrice[k][j]=ntot[j]/samples\n",
    "            \n",
    "plt.plot(t,matrice[0],label=\"$b=0$\")\n",
    "plt.plot(t,matrice[1] ,label=\"$b=0.1$\")\n",
    "plt.plot(t,matrice[2],label=\"b=0.2$\")\n",
    "plt.plot(t,matrice[3],label=\"b=0.3$\")\n",
    "plt.plot(t,matrice[4],label=\"b=0.4$\")\n",
    "plt.plot(t,matrice[5],label=\"b=0.5$\")\n",
    "plt.plot(t,matrice[6],label=\"b=0.6$\")\n",
    "plt.plot(t,matrice[7],label=\"b=0.7$\")\n",
    "plt.plot(t,matrice[8],label=\"b=0.8$\")\n",
    "plt.plot(t,matrice[9],label=\"b=0.9$\")\n",
    "plt.plot(t,matrice[10],label=\"b=1$\")\n",
    "plt.grid()\n",
    "plt.legend(bbox_to_anchor=(1.05, 1.0), loc='upper left')\n",
    "plt.xlabel(\"t\")\n",
    "plt.ylabel(r\"$N_A$\")\n",
    "plt.title(r\"Dipendenza da $b$\")\n",
    "b=0.5"
   ]
  },
  {
   "cell_type": "markdown",
   "id": "7c51102c",
   "metadata": {},
   "source": [
    " ### Dipendenza da d"
   ]
  },
  {
   "cell_type": "code",
   "execution_count": null,
   "id": "707c8c43",
   "metadata": {},
   "outputs": [],
   "source": [
    "\n",
    "t=np.linspace(0,t_max-1,t_max)\n",
    "matrice=matrix(11,t_max)\n",
    "for k in range (0,11,1):\n",
    "    \n",
    "    n=np.zeros(t_max)\n",
    "    d=0.1*k\n",
    "    \n",
    "\n",
    "    n[0]=n_0\n",
    "    \n",
    "    \n",
    "    \n",
    "    ntot=np.zeros(t_max)\n",
    "    samples=10\n",
    "    \n",
    "\n",
    "    for i in range (0,samples):\n",
    "        \n",
    "\n",
    "        nascita_morte(n,t_max-1)\n",
    "        ntot=ntot+n\n",
    "        for j in range (0,t_max,1):\n",
    "            matrice[k][j]=ntot[j]/samples\n",
    "            \n",
    "plt.plot(t,matrice[0],label=\"$d=0$\")\n",
    "plt.plot(t,matrice[1] ,label=\"$d=0.1$\")\n",
    "plt.plot(t,matrice[2],label=\"d=0.2$\")\n",
    "plt.plot(t,matrice[3],label=\"d=0.3$\")\n",
    "plt.plot(t,matrice[4],label=\"d=0.4$\")\n",
    "plt.plot(t,matrice[5],label=\"d=0.5$\")\n",
    "plt.plot(t,matrice[6],label=\"d=0.6$\")\n",
    "plt.plot(t,matrice[7],label=\"d=0.7$\")\n",
    "plt.plot(t,matrice[8],label=\"d=0.8$\")\n",
    "plt.plot(t,matrice[9],label=\"d=0.9$\")\n",
    "plt.plot(t,matrice[10],label=\"d=1$\")\n",
    "plt.grid()\n",
    "plt.legend(bbox_to_anchor=(1.05, 1.0), loc='upper left')\n",
    "plt.xlabel(\"t\")\n",
    "plt.ylabel(r\"$N_A$\")\n",
    "plt.title(r\"Dipendenza da $d$\")\n",
    "\n",
    "d=0.5"
   ]
  },
  {
   "cell_type": "markdown",
   "id": "adfe4a82",
   "metadata": {},
   "source": [
    "### Dipendenza da c"
   ]
  },
  {
   "cell_type": "code",
   "execution_count": null,
   "id": "9d78e6fe",
   "metadata": {},
   "outputs": [],
   "source": [
    "\n",
    "t=np.linspace(0,t_max-1,t_max)\n",
    "matrice=matrix(11,t_max)\n",
    "for k in range (0,11,1):\n",
    "    \n",
    "    n=np.zeros(t_max)\n",
    "    c=0.1*k\n",
    "    \n",
    "\n",
    "    n[0]=n_0\n",
    "    \n",
    "    \n",
    "    \n",
    "    ntot=np.zeros(t_max)\n",
    "    samples=10\n",
    "    \n",
    "\n",
    "    for i in range (0,samples):\n",
    "        \n",
    "\n",
    "        nascita_morte(n,t_max-1)\n",
    "        ntot=ntot+n\n",
    "        for j in range (0,t_max,1):\n",
    "            matrice[k][j]=ntot[j]/samples\n",
    "            \n",
    "plt.plot(t,matrice[0],label=\"$c=0$\")\n",
    "plt.plot(t,matrice[1] ,label=\"$c=0.1$\")\n",
    "plt.plot(t,matrice[2],label=\"c=0.2$\")\n",
    "plt.plot(t,matrice[3],label=\"c=0.3$\")\n",
    "plt.plot(t,matrice[4],label=\"c=0.4$\")\n",
    "plt.plot(t,matrice[5],label=\"c=0.5$\")\n",
    "plt.plot(t,matrice[6],label=\"c=0.6$\")\n",
    "plt.plot(t,matrice[7],label=\"c=0.7$\")\n",
    "plt.plot(t,matrice[8],label=\"c=0.8$\")\n",
    "plt.plot(t,matrice[9],label=\"c=0.9$\")\n",
    "plt.plot(t,matrice[10],label=\"c=1$\")\n",
    "plt.grid()\n",
    "plt.legend(bbox_to_anchor=(1.05, 1.0), loc='upper left')\n",
    "plt.xlabel(\"t\")\n",
    "plt.ylabel(r\"$N_A$\")\n",
    "plt.title(r\"Dipendenza da $c$\")\n",
    "\n",
    "c=0.5"
   ]
  },
  {
   "cell_type": "code",
   "execution_count": 2,
   "id": "7cb66911",
   "metadata": {},
   "outputs": [],
   "source": [
    "anno=np.array([1975,1976,1977,1978,1980,1981,1982,1983,1984,1985,1986,1987,1988,1989,1991,1992,1993,1994,1995,1996,1997,1999])"
   ]
  },
  {
   "cell_type": "code",
   "execution_count": 3,
   "id": "3ee43101",
   "metadata": {},
   "outputs": [],
   "source": [
    "pop=np.array([1649,1742,2082,2570,2864,4408,5297,4416,4216,4204,6008,4807,7600,6796,6475,8691,7761,8161,5786,6492,7191,7643])"
   ]
  },
  {
   "cell_type": "code",
   "execution_count": null,
   "id": "b5dd2971",
   "metadata": {},
   "outputs": [],
   "source": [
    "plt.plot(anno,pop,\"o\")\n",
    "plt.grid()"
   ]
  },
  {
   "cell_type": "code",
   "execution_count": 44,
   "id": "f9b6e962",
   "metadata": {},
   "outputs": [],
   "source": [
    "def f(x,r,C,s):\n",
    "    return(r/(s-C*np.exp(-r*x)))\n",
    "\n",
    "initialGuess=[51,43,3]\n",
    "popt, pcov=curve_fit(f,anno,pop,initialGuess,sigma=pop**0.5)"
   ]
  },
  {
   "cell_type": "code",
   "execution_count": 45,
   "id": "e8d37801",
   "metadata": {},
   "outputs": [
    {
     "data": {
      "text/plain": [
       "array([2.50977151e+05, 4.30000000e+01, 6.03154698e+01])"
      ]
     },
     "execution_count": 45,
     "metadata": {},
     "output_type": "execute_result"
    }
   ],
   "source": [
    "popt"
   ]
  },
  {
   "cell_type": "code",
   "execution_count": 46,
   "id": "81a6cd5a",
   "metadata": {},
   "outputs": [
    {
     "data": {
      "text/plain": [
       "array([[inf, inf, inf],\n",
       "       [inf, inf, inf],\n",
       "       [inf, inf, inf]])"
      ]
     },
     "execution_count": 46,
     "metadata": {},
     "output_type": "execute_result"
    }
   ],
   "source": [
    "pcov"
   ]
  },
  {
   "cell_type": "code",
   "execution_count": 47,
   "id": "0c391fbf",
   "metadata": {},
   "outputs": [
    {
     "data": {
      "image/png": "[encoded data removed]",
      "text/plain": [
       "<Figure size 640x480 with 1 Axes>"
      ]
     },
     "metadata": {},
     "output_type": "display_data"
    }
   ],
   "source": [
    "plt.plot(anno,pop,\"o\")\n",
    "plt.plot(anno,f(anno,popt[0],popt[1],popt[2]),)\n",
    "plt.grid()"
   ]
  },
  {
   "cell_type": "code",
   "execution_count": null,
   "id": "b1fa2f96",
   "metadata": {},
   "outputs": [],
   "source": []
  }
 ],
 "metadata": {
  "kernelspec": {
   "display_name": "Python 3 (ipykernel)",
   "language": "python",
   "name": "python3"
  },
  "language_info": {
   "codemirror_mode": {
    "name": "ipython",
    "version": 3
   },
   "file_extension": ".py",
   "mimetype": "text/x-python",
   "name": "python",
   "nbconvert_exporter": "python",
   "pygments_lexer": "ipython3",
   "version": "3.10.9"
  }
 },
 "nbformat": 4,
 "nbformat_minor": 5
}
